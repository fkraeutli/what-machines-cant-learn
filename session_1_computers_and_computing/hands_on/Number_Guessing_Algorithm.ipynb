{
 "cells": [
  {
   "cell_type": "markdown",
   "metadata": {},
   "source": [
    "# Number Guessing Game"
   ]
  },
  {
   "cell_type": "markdown",
   "metadata": {},
   "source": [
    "## User Feedback"
   ]
  },
  {
   "cell_type": "markdown",
   "metadata": {},
   "source": [
    "Think of a number between 1 and 100. The computer will try to guess it. Provide feedback on the computer's guesses by typing _smaller_ if your number is smaller, _bigger_ if your number is bigger and _yes_ if the computer guessed correctly."
   ]
  },
  {
   "cell_type": "code",
   "execution_count": null,
   "metadata": {
    "colab": {
     "base_uri": "https://localhost:8080/",
     "height": 102
    },
    "colab_type": "code",
    "id": "oxY577D48Vkr",
    "outputId": "70886e16-d246-40f6-f4a8-c0e1d81c4815"
   },
   "outputs": [],
   "source": [
    "import math\n",
    "tries = 0\n",
    "minimum = 1\n",
    "maximum = 100\n",
    "answer = False\n",
    "while answer != \"yes\":\n",
    "  guess = math.floor(minimum + (maximum-minimum) / 2)\n",
    "  print(\"I think your number is \" + str(guess) + \"?\")\n",
    "  answer = input()\n",
    "  if(answer == \"smaller\"):\n",
    "    maximum = guess\n",
    "  if(answer == \"bigger\"):\n",
    "    minimum = guess\n",
    "  tries = tries + 1\n",
    "print(\"This took me %d tries\" % tries)"
   ]
  },
  {
   "cell_type": "markdown",
   "metadata": {},
   "source": [
    "## Machine against machine"
   ]
  },
  {
   "cell_type": "markdown",
   "metadata": {},
   "source": [
    "This algorithm picks a number and then competes against itself trying to guess it."
   ]
  },
  {
   "cell_type": "code",
   "execution_count": null,
   "metadata": {
    "colab": {
     "base_uri": "https://localhost:8080/",
     "height": 187
    },
    "colab_type": "code",
    "id": "nuV_dFUM6GTD",
    "outputId": "dbce7067-5b67-459b-f55f-294b8d70e41d"
   },
   "outputs": [],
   "source": [
    "import random\n",
    "import math\n",
    "tries = 0\n",
    "minimum = 1\n",
    "maximum = 100\n",
    "guess = False\n",
    "number = random.randint(minimum, maximum)\n",
    "print(\"- My number is \" + str(number) + \" but I don't know that.\")\n",
    "while guess != number:\n",
    "  guess = math.floor(minimum + (maximum-minimum) / 2)\n",
    "  print(\"I think my number is \" + str(guess) + \"?\")\n",
    "  if(guess > number):\n",
    "    maximum = guess\n",
    "    print(\"- No it is smaller\")\n",
    "  if(guess < number):\n",
    "    minimum = guess\n",
    "    print(\"- No it is bigger\")\n",
    "  tries = tries + 1\n",
    "print(\"- Yes\")\n",
    "print(\"This took me %d tries\" % tries)"
   ]
  }
 ],
 "metadata": {
  "colab": {
   "name": "Number Guessing Algorithm",
   "provenance": []
  },
  "kernelspec": {
   "display_name": "Python 3",
   "language": "python",
   "name": "python3"
  },
  "language_info": {
   "codemirror_mode": {
    "name": "ipython",
    "version": 3
   },
   "file_extension": ".py",
   "mimetype": "text/x-python",
   "name": "python",
   "nbconvert_exporter": "python",
   "pygments_lexer": "ipython3",
   "version": "3.6.3"
  }
 },
 "nbformat": 4,
 "nbformat_minor": 1
}
