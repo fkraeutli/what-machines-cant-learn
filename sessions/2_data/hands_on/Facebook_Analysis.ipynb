{
 "cells": [
  {
   "cell_type": "markdown",
   "metadata": {
    "colab_type": "text",
    "id": "VVFs0_z6GD4o"
   },
   "source": [
    "# Analyse Facebook comments"
   ]
  },
  {
   "cell_type": "markdown",
   "metadata": {
    "colab_type": "text",
    "id": "6S7tJMsFGD4q"
   },
   "source": [
    "## Load libraries"
   ]
  },
  {
   "cell_type": "markdown",
   "metadata": {
    "colab_type": "text",
    "id": "jV3M-QryGD4r"
   },
   "source": [
    "When running for the first time, download NLTK packages"
   ]
  },
  {
   "cell_type": "code",
   "execution_count": null,
   "metadata": {
    "colab": {
     "base_uri": "https://localhost:8080/",
     "height": 102
    },
    "colab_type": "code",
    "executionInfo": {
     "elapsed": 681,
     "status": "ok",
     "timestamp": 1571859063501,
     "user": {
      "displayName": "Florian",
      "photoUrl": "",
      "userId": "07957689534596762168"
     },
     "user_tz": -120
    },
    "id": "--b4ZnOQGD4r",
    "outputId": "4e10d0f8-9412-408f-beed-117b6e2da8d7"
   },
   "outputs": [],
   "source": [
    "import nltk\n",
    "nltk.download('punkt')\n",
    "nltk.download('stopwords')"
   ]
  },
  {
   "cell_type": "markdown",
   "metadata": {
    "colab_type": "text",
    "id": "wEZ7UImNGD4u"
   },
   "source": [
    "Import libraries"
   ]
  },
  {
   "cell_type": "code",
   "execution_count": null,
   "metadata": {
    "colab": {},
    "colab_type": "code",
    "collapsed": true,
    "id": "BSi072uvGD4v"
   },
   "outputs": [],
   "source": [
    "import json\n",
    "import operator\n",
    "from nltk.tokenize import word_tokenize\n",
    "from nltk.text import Text\n",
    "from nltk.corpus import stopwords\n",
    "from nltk import FreqDist"
   ]
  },
  {
   "cell_type": "markdown",
   "metadata": {
    "colab_type": "text",
    "id": "mGIF_81WGD4y"
   },
   "source": [
    "## Load corpus"
   ]
  },
  {
   "cell_type": "markdown",
   "metadata": {
    "colab_type": "text",
    "id": "54v46VO_GD4z"
   },
   "source": [
    "Locate path to comments file downloaded from Facebook"
   ]
  },
  {
   "cell_type": "code",
   "execution_count": null,
   "metadata": {
    "colab": {},
    "colab_type": "code",
    "collapsed": true,
    "id": "lNk2jzloGD40"
   },
   "outputs": [],
   "source": [
    "commentsFile = '/content/comments.json'"
   ]
  },
  {
   "cell_type": "markdown",
   "metadata": {
    "colab_type": "text",
    "id": "Z3nGbdZxGD42"
   },
   "source": [
    "Read file conent"
   ]
  },
  {
   "cell_type": "code",
   "execution_count": null,
   "metadata": {
    "colab": {},
    "colab_type": "code",
    "collapsed": true,
    "id": "1L1ocR2rGD43"
   },
   "outputs": [],
   "source": [
    "with open (commentsFile, encoding=\"utf-8\") as f:\n",
    "    comments = json.load(f)"
   ]
  },
  {
   "cell_type": "markdown",
   "metadata": {
    "colab_type": "text",
    "id": "5dnAhGMOGD46"
   },
   "source": [
    "## Preprocess"
   ]
  },
  {
   "cell_type": "markdown",
   "metadata": {
    "colab_type": "text",
    "id": "ScR0W6ZcGD46"
   },
   "source": [
    "Extract only text strings"
   ]
  },
  {
   "cell_type": "code",
   "execution_count": null,
   "metadata": {
    "colab": {},
    "colab_type": "code",
    "collapsed": true,
    "id": "-yzOaJ4yGD47"
   },
   "outputs": [],
   "source": [
    "justComments = [d['data'][0]['comment']['comment'] for d in comments['comments'] if 'data' in d]"
   ]
  },
  {
   "cell_type": "markdown",
   "metadata": {
    "colab_type": "text",
    "id": "ACtzpde5GD4-"
   },
   "source": [
    "Make one big string containing all comments"
   ]
  },
  {
   "cell_type": "code",
   "execution_count": null,
   "metadata": {
    "colab": {},
    "colab_type": "code",
    "collapsed": true,
    "id": "xxdZVNUlGD4_"
   },
   "outputs": [],
   "source": [
    "inputString = '\\n'.join(justComments)"
   ]
  },
  {
   "cell_type": "markdown",
   "metadata": {
    "colab_type": "text",
    "id": "gEeoA_NHGD5C"
   },
   "source": [
    "Tokenise input"
   ]
  },
  {
   "cell_type": "code",
   "execution_count": null,
   "metadata": {
    "colab": {},
    "colab_type": "code",
    "collapsed": true,
    "id": "G--aNolnGD5C"
   },
   "outputs": [],
   "source": [
    "tokens = word_tokenize(inputString)\n",
    "tokens = [word.lower() for word in tokens]"
   ]
  },
  {
   "cell_type": "code",
   "execution_count": null,
   "metadata": {
    "colab": {
     "base_uri": "https://localhost:8080/",
     "height": 34
    },
    "colab_type": "code",
    "executionInfo": {
     "elapsed": 534,
     "status": "ok",
     "timestamp": 1571859053558,
     "user": {
      "displayName": "Florian",
      "photoUrl": "",
      "userId": "07957689534596762168"
     },
     "user_tz": -120
    },
    "id": "3b6JVu-oGD5F",
    "outputId": "70ea1a2c-1e05-4f76-f3f4-b055f97f6055"
   },
   "outputs": [],
   "source": [
    "tokens[:5]"
   ]
  },
  {
   "cell_type": "markdown",
   "metadata": {
    "colab_type": "text",
    "id": "vGLX0vVYGD5H"
   },
   "source": [
    "Remove stop words"
   ]
  },
  {
   "cell_type": "code",
   "execution_count": null,
   "metadata": {
    "colab": {},
    "colab_type": "code",
    "collapsed": true,
    "id": "qG60pM7oGD5H"
   },
   "outputs": [],
   "source": [
    "stopWords = set(stopwords.words('english')) "
   ]
  },
  {
   "cell_type": "code",
   "execution_count": null,
   "metadata": {
    "colab": {},
    "colab_type": "code",
    "collapsed": true,
    "id": "hqc6cTzzGD5K"
   },
   "outputs": [],
   "source": [
    "filteredTokens = [w for w in tokens if not w in stopWords]"
   ]
  },
  {
   "cell_type": "code",
   "execution_count": null,
   "metadata": {
    "colab": {
     "base_uri": "https://localhost:8080/",
     "height": 204
    },
    "colab_type": "code",
    "executionInfo": {
     "elapsed": 501,
     "status": "ok",
     "timestamp": 1571859086469,
     "user": {
      "displayName": "Florian",
      "photoUrl": "",
      "userId": "07957689534596762168"
     },
     "user_tz": -120
    },
    "id": "Pyk1jPvPGD5M",
    "outputId": "cbeb8fb5-2667-42a4-c640-6b8399e04dcc"
   },
   "outputs": [],
   "source": [
    "filteredTokens[4:15]"
   ]
  },
  {
   "cell_type": "markdown",
   "metadata": {
    "colab_type": "text",
    "id": "uarS1TNOGD5O"
   },
   "source": [
    "Convert to a NLTK Text instance"
   ]
  },
  {
   "cell_type": "code",
   "execution_count": null,
   "metadata": {
    "colab": {},
    "colab_type": "code",
    "collapsed": true,
    "id": "PCURyrLaGD5O"
   },
   "outputs": [],
   "source": [
    "t = Text(filteredTokens)"
   ]
  },
  {
   "cell_type": "markdown",
   "metadata": {
    "colab_type": "text",
    "id": "QEVWAnVFGD5Q"
   },
   "source": [
    "## Analyse"
   ]
  },
  {
   "cell_type": "markdown",
   "metadata": {
    "colab_type": "text",
    "id": "QZ9M5PSlGD5R"
   },
   "source": [
    "Look at collocations"
   ]
  },
  {
   "cell_type": "code",
   "execution_count": null,
   "metadata": {
    "colab": {
     "base_uri": "https://localhost:8080/",
     "height": 68
    },
    "colab_type": "code",
    "executionInfo": {
     "elapsed": 587,
     "status": "ok",
     "timestamp": 1571859091801,
     "user": {
      "displayName": "Florian",
      "photoUrl": "",
      "userId": "07957689534596762168"
     },
     "user_tz": -120
    },
    "id": "C2wJ6VybGD5S",
    "outputId": "fa9c6346-477c-4f38-b57a-4c8b983fd859"
   },
   "outputs": [],
   "source": [
    "t.collocations()"
   ]
  },
  {
   "cell_type": "markdown",
   "metadata": {
    "colab_type": "text",
    "id": "qM9eibTiGD5U"
   },
   "source": [
    "Look at frequent words"
   ]
  },
  {
   "cell_type": "code",
   "execution_count": null,
   "metadata": {
    "colab": {},
    "colab_type": "code",
    "collapsed": true,
    "id": "xXHocsOJGD5U"
   },
   "outputs": [],
   "source": [
    "vocabulary = t.vocab()"
   ]
  },
  {
   "cell_type": "code",
   "execution_count": null,
   "metadata": {
    "colab": {
     "base_uri": "https://localhost:8080/",
     "height": 1000
    },
    "colab_type": "code",
    "executionInfo": {
     "elapsed": 564,
     "status": "ok",
     "timestamp": 1571859096652,
     "user": {
      "displayName": "Florian",
      "photoUrl": "",
      "userId": "07957689534596762168"
     },
     "user_tz": -120
    },
    "id": "UrDMIAdAGD5W",
    "outputId": "4fb162c3-8515-4b31-95dd-7439542c2d3e"
   },
   "outputs": [],
   "source": [
    "vocabulary"
   ]
  },
  {
   "cell_type": "markdown",
   "metadata": {
    "colab_type": "text",
    "id": "C066UK58GD5Z"
   },
   "source": [
    "Sort by number"
   ]
  },
  {
   "cell_type": "code",
   "execution_count": null,
   "metadata": {
    "colab": {},
    "colab_type": "code",
    "collapsed": true,
    "id": "tCbA530fGD5b"
   },
   "outputs": [],
   "source": [
    "sortedVocabulary = sorted(vocabulary.items(), key=operator.itemgetter(1))"
   ]
  },
  {
   "cell_type": "code",
   "execution_count": null,
   "metadata": {
    "colab": {},
    "colab_type": "code",
    "collapsed": true,
    "id": "reyF0ypRGD5e"
   },
   "outputs": [],
   "source": [
    "sortedVocabulary.reverse()"
   ]
  },
  {
   "cell_type": "code",
   "execution_count": null,
   "metadata": {
    "colab": {
     "base_uri": "https://localhost:8080/",
     "height": 1000
    },
    "colab_type": "code",
    "executionInfo": {
     "elapsed": 520,
     "status": "ok",
     "timestamp": 1571859105131,
     "user": {
      "displayName": "Florian",
      "photoUrl": "",
      "userId": "07957689534596762168"
     },
     "user_tz": -120
    },
    "id": "_7FPM-XyGD5g",
    "outputId": "9e902529-9e2e-4cb4-805f-0d8bd3b4d5cb"
   },
   "outputs": [],
   "source": [
    "sortedVocabulary"
   ]
  },
  {
   "cell_type": "markdown",
   "metadata": {
    "colab_type": "text",
    "id": "HDaZGXu_GD5i"
   },
   "source": [
    "Plot occurrence of words in text"
   ]
  },
  {
   "cell_type": "code",
   "execution_count": null,
   "metadata": {
    "colab": {
     "base_uri": "https://localhost:8080/",
     "height": 295
    },
    "colab_type": "code",
    "executionInfo": {
     "elapsed": 791,
     "status": "ok",
     "timestamp": 1571859120625,
     "user": {
      "displayName": "Florian",
      "photoUrl": "",
      "userId": "07957689534596762168"
     },
     "user_tz": -120
    },
    "id": "xExE2ZntGD5j",
    "outputId": "239c29ca-2fdb-4995-fe86-244e849b9b4a"
   },
   "outputs": [],
   "source": [
    "t.dispersion_plot([\"happy\",\"congratulations\",\"good\",\"thanks\"])"
   ]
  },
  {
   "cell_type": "markdown",
   "metadata": {
    "colab_type": "text",
    "id": "gcxwX4-8GD5l"
   },
   "source": [
    "## Continue"
   ]
  },
  {
   "cell_type": "markdown",
   "metadata": {
    "colab_type": "text",
    "id": "Yj2XcVe7GD5l"
   },
   "source": [
    "Analyse corpus in [Voyant](https://voyant-tools.org)"
   ]
  },
  {
   "cell_type": "code",
   "execution_count": null,
   "metadata": {
    "colab": {
     "base_uri": "https://localhost:8080/",
     "height": 1000
    },
    "colab_type": "code",
    "executionInfo": {
     "elapsed": 534,
     "status": "ok",
     "timestamp": 1571859125109,
     "user": {
      "displayName": "Florian",
      "photoUrl": "",
      "userId": "07957689534596762168"
     },
     "user_tz": -120
    },
    "id": "vTEoggNUGD5m",
    "outputId": "70041027-edd8-4b0e-a00d-362b8e5b6841"
   },
   "outputs": [],
   "source": [
    "print(inputString)"
   ]
  },
  {
   "cell_type": "markdown",
   "metadata": {
    "colab_type": "text",
    "id": "jyl8Cv_tGD5n"
   },
   "source": [
    "(advanced) do some sentiment analysis: https://towardsdatascience.com/basic-binary-sentiment-analysis-using-nltk-c94ba17ae386"
   ]
  },
  {
   "cell_type": "code",
   "execution_count": null,
   "metadata": {
    "colab": {},
    "colab_type": "code",
    "collapsed": true,
    "id": "FcjR0gRdGD5o"
   },
   "outputs": [],
   "source": []
  }
 ],
 "metadata": {
  "colab": {
   "name": "Facebook Analysis.ipynb",
   "provenance": [],
   "toc_visible": true
  },
  "kernelspec": {
   "display_name": "Python 3",
   "language": "python",
   "name": "python3"
  },
  "language_info": {
   "codemirror_mode": {
    "name": "ipython",
    "version": 3
   },
   "file_extension": ".py",
   "mimetype": "text/x-python",
   "name": "python",
   "nbconvert_exporter": "python",
   "pygments_lexer": "ipython3",
   "version": "3.6.3"
  }
 },
 "nbformat": 4,
 "nbformat_minor": 1
}
