{
  "nbformat": 4,
  "nbformat_minor": 0,
  "metadata": {
    "colab": {
      "name": "Keras Text Generator Run",
      "provenance": [],
      "collapsed_sections": [],
      "toc_visible": true
    },
    "kernelspec": {
      "name": "python3",
      "display_name": "Python 3"
    }
  },
  "cells": [
    {
      "cell_type": "markdown",
      "metadata": {
        "id": "zf8et6-ueKe1",
        "colab_type": "text"
      },
      "source": [
        "Jupyter Notebook version of https://machinelearningmastery.com/how-to-develop-a-word-level-neural-language-model-in-keras/"
      ]
    },
    {
      "cell_type": "code",
      "metadata": {
        "id": "H3yPDgjwPGZD",
        "colab_type": "code",
        "colab": {
          "base_uri": "https://localhost:8080/",
          "height": 80
        },
        "outputId": "d944b7fb-1bdf-434b-fa7f-11b475b2ad14"
      },
      "source": [
        "from random import randint\n",
        "from pickle import load\n",
        "from keras.models import load_model\n",
        "from keras.preprocessing.sequence import pad_sequences"
      ],
      "execution_count": 1,
      "outputs": [
        {
          "output_type": "stream",
          "text": [
            "Using TensorFlow backend.\n"
          ],
          "name": "stderr"
        },
        {
          "output_type": "display_data",
          "data": {
            "text/html": [
              "<p style=\"color: red;\">\n",
              "The default version of TensorFlow in Colab will soon switch to TensorFlow 2.x.<br>\n",
              "We recommend you <a href=\"https://www.tensorflow.org/guide/migrate\" target=\"_blank\">upgrade</a> now \n",
              "or ensure your notebook will continue to use TensorFlow 1.x via the <code>%tensorflow_version 1.x</code> magic:\n",
              "<a href=\"https://colab.research.google.com/notebooks/tensorflow_version.ipynb\" target=\"_blank\">more info</a>.</p>\n"
            ],
            "text/plain": [
              "<IPython.core.display.HTML object>"
            ]
          },
          "metadata": {
            "tags": []
          }
        }
      ]
    },
    {
      "cell_type": "markdown",
      "metadata": {
        "id": "r5idchS3PNEH",
        "colab_type": "text"
      },
      "source": [
        "### Function for loading document\n",
        "\n"
      ]
    },
    {
      "cell_type": "code",
      "metadata": {
        "colab_type": "code",
        "id": "kL6PyWgxPKSh",
        "colab": {}
      },
      "source": [
        "def load_doc(filename):\n",
        "\t# open the file as read only\n",
        "\tfile = open(filename, 'r')\n",
        "\t# read all text\n",
        "\ttext = file.read()\n",
        "\t# close the file\n",
        "\tfile.close()\n",
        "\treturn text"
      ],
      "execution_count": 0,
      "outputs": []
    },
    {
      "cell_type": "markdown",
      "metadata": {
        "id": "wZmWKAt8PW9F",
        "colab_type": "text"
      },
      "source": [
        "### Function for generating sequence from language model"
      ]
    },
    {
      "cell_type": "code",
      "metadata": {
        "id": "LHULOWZYPaB-",
        "colab_type": "code",
        "colab": {}
      },
      "source": [
        "def generate_seq(model, tokenizer, seq_length, seed_text, n_words):\n",
        "\tresult = list()\n",
        "\tin_text = seed_text\n",
        "\t# generate a fixed number of words\n",
        "\tfor _ in range(n_words):\n",
        "\t\t# encode the text as integer\n",
        "\t\tencoded = tokenizer.texts_to_sequences([in_text])[0]\n",
        "\t\t# truncate sequences to a fixed length\n",
        "\t\tencoded = pad_sequences([encoded], maxlen=seq_length, truncating='pre')\n",
        "\t\t# predict probabilities for each word\n",
        "\t\tyhat = model.predict_classes(encoded, verbose=0)\n",
        "\t\t# map predicted word index to word\n",
        "\t\tout_word = ''\n",
        "\t\tfor word, index in tokenizer.word_index.items():\n",
        "\t\t\tif index == yhat:\n",
        "\t\t\t\tout_word = word\n",
        "\t\t\t\tbreak\n",
        "\t\t# append to input\n",
        "\t\tin_text += ' ' + out_word\n",
        "\t\tresult.append(out_word)\n",
        "\treturn ' '.join(result)"
      ],
      "execution_count": 0,
      "outputs": []
    },
    {
      "cell_type": "markdown",
      "metadata": {
        "id": "My7LBsA8Pejs",
        "colab_type": "text"
      },
      "source": [
        "### Run model"
      ]
    },
    {
      "cell_type": "markdown",
      "metadata": {
        "id": "70zfU1K0Pizd",
        "colab_type": "text"
      },
      "source": [
        "Load text sequences"
      ]
    },
    {
      "cell_type": "code",
      "metadata": {
        "id": "JMxvJZRcPd3q",
        "colab_type": "code",
        "colab": {}
      },
      "source": [
        "in_filename = '/content/kvv.txt'\n",
        "doc = load_doc(in_filename)\n",
        "lines = doc.split('\\n')\n",
        "seq_length = len(lines[0].split()) - 1"
      ],
      "execution_count": 0,
      "outputs": []
    },
    {
      "cell_type": "markdown",
      "metadata": {
        "id": "5I20D1esPsOo",
        "colab_type": "text"
      },
      "source": [
        "Load Model"
      ]
    },
    {
      "cell_type": "code",
      "metadata": {
        "id": "ZDN2XXO4PrKL",
        "colab_type": "code",
        "colab": {}
      },
      "source": [
        "model = load_model('/content/model.h5')"
      ],
      "execution_count": 0,
      "outputs": []
    },
    {
      "cell_type": "markdown",
      "metadata": {
        "id": "K5E8W_Xyd9t0",
        "colab_type": "text"
      },
      "source": [
        "Load Tokenizer"
      ]
    },
    {
      "cell_type": "code",
      "metadata": {
        "id": "yYczD-MOd_Yu",
        "colab_type": "code",
        "colab": {}
      },
      "source": [
        "tokenizer = load(open('tokenizer.pkl', 'rb'))"
      ],
      "execution_count": 0,
      "outputs": []
    },
    {
      "cell_type": "markdown",
      "metadata": {
        "id": "a_ssejULeEBg",
        "colab_type": "text"
      },
      "source": [
        "Select a seed text"
      ]
    },
    {
      "cell_type": "code",
      "metadata": {
        "id": "cyolk4QUeCga",
        "colab_type": "code",
        "colab": {}
      },
      "source": [
        "seed_text = lines[randint(0,len(lines))]\n",
        "print(seed_text + '\\n')"
      ],
      "execution_count": 0,
      "outputs": []
    },
    {
      "cell_type": "markdown",
      "metadata": {
        "id": "CxfV8koyeIFZ",
        "colab_type": "text"
      },
      "source": [
        "Generate new text"
      ]
    },
    {
      "cell_type": "code",
      "metadata": {
        "id": "Q8h9a9sheGoL",
        "colab_type": "code",
        "colab": {}
      },
      "source": [
        "generated = generate_seq(model, tokenizer, seq_length, seed_text, 50)\n",
        "print(generated)"
      ],
      "execution_count": 0,
      "outputs": []
    }
  ]
}