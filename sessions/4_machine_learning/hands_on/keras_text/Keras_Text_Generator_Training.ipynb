{
  "nbformat": 4,
  "nbformat_minor": 0,
  "metadata": {
    "kernelspec": {
      "name": "python3",
      "display_name": "Python 3"
    },
    "language_info": {
      "codemirror_mode": {
        "name": "ipython",
        "version": 3
      },
      "file_extension": ".py",
      "mimetype": "text/x-python",
      "name": "python",
      "nbconvert_exporter": "python",
      "pygments_lexer": "ipython3",
      "version": "3.6.8"
    },
    "colab": {
      "name": "Keras_Text_Generator_Training.ipynb",
      "provenance": [],
      "machine_shape": "hm"
    },
    "accelerator": "TPU"
  },
  "cells": [
    {
      "cell_type": "markdown",
      "metadata": {
        "id": "oCVTaOo9JfhJ",
        "colab_type": "text"
      },
      "source": [
        "https://machinelearningmastery.com/how-to-develop-a-word-level-neural-language-model-in-keras/"
      ]
    },
    {
      "cell_type": "code",
      "metadata": {
        "id": "yCQF5mHRJfhM",
        "colab_type": "code",
        "colab": {}
      },
      "source": [
        "# Uncomment when running locally (not in Google Colab)\n",
        "# import sys\n",
        "# !{sys.executable} -m pip install tensorflow\n",
        "# !{sys.executable} -m pip install keras"
      ],
      "execution_count": 0,
      "outputs": []
    },
    {
      "cell_type": "code",
      "metadata": {
        "id": "l6V5AXtMJfhQ",
        "colab_type": "code",
        "colab": {
          "base_uri": "https://localhost:8080/",
          "height": 34
        },
        "outputId": "54157570-f426-4c93-be7b-24163bce7010"
      },
      "source": [
        "import keras\n",
        "from numpy import array\n",
        "from pickle import dump"
      ],
      "execution_count": 1,
      "outputs": [
        {
          "output_type": "stream",
          "text": [
            "Using TensorFlow backend.\n"
          ],
          "name": "stderr"
        }
      ]
    },
    {
      "cell_type": "code",
      "metadata": {
        "id": "4XciYODGJfhT",
        "colab_type": "code",
        "colab": {}
      },
      "source": [
        "inputFile = \"kvv.txt\"\n",
        "sequenceFile = \"kvv_sequences.txt\""
      ],
      "execution_count": 0,
      "outputs": []
    },
    {
      "cell_type": "code",
      "metadata": {
        "id": "oFrqhPqJJfhW",
        "colab_type": "code",
        "colab": {}
      },
      "source": [
        "# load doc into memory\n",
        "def load_doc(filename):\n",
        "    # open the file as read only\n",
        "    file = open(filename, 'r')\n",
        "    # read all text\n",
        "    text = file.read()\n",
        "    # close the file\n",
        "    file.close()\n",
        "    return text"
      ],
      "execution_count": 0,
      "outputs": []
    },
    {
      "cell_type": "code",
      "metadata": {
        "id": "QePNtT9jJfhY",
        "colab_type": "code",
        "outputId": "3af8fb2f-58a6-4639-92f2-2a846c758275",
        "colab": {
          "base_uri": "https://localhost:8080/",
          "height": 153
        }
      },
      "source": [
        "# load document\n",
        "doc = load_doc(inputFile)\n",
        "print(doc[:200])"
      ],
      "execution_count": 4,
      "outputs": [
        {
          "output_type": "stream",
          "text": [
            " Berliner Vorlesungsverzeichnis Wissenschaftsgeschichte\n",
            "Wintersemester 2019/20\n",
            "www.wissensgeschichte-berlin.de\n",
            "\n",
            "2\n",
            "\n",
            "Liebe Studierende,\n",
            "die vorliegende Zusammenstellung der aktuellen Lehrveranstaltungen\n"
          ],
          "name": "stdout"
        }
      ]
    },
    {
      "cell_type": "code",
      "metadata": {
        "id": "gpr9ZTMbJfhb",
        "colab_type": "code",
        "colab": {}
      },
      "source": [
        "import string\n",
        "\n",
        "# turn a doc into clean tokens\n",
        "def clean_doc(doc):\n",
        "    # replace '--' with a space ' '\n",
        "    doc = doc.replace('--', ' ')\n",
        "    # split into tokens by white space\n",
        "    tokens = doc.split()\n",
        "    # remove punctuation from each token\n",
        "    table = str.maketrans('', '', string.punctuation)\n",
        "    tokens = [w.translate(table) for w in tokens]\n",
        "    # remove remaining tokens that are not alphabetic\n",
        "    tokens = [word for word in tokens if word.isalpha()]\n",
        "    # make lower case\n",
        "    tokens = [word.lower() for word in tokens]\n",
        "    return tokens"
      ],
      "execution_count": 0,
      "outputs": []
    },
    {
      "cell_type": "code",
      "metadata": {
        "id": "nVzWhXTJJfhd",
        "colab_type": "code",
        "outputId": "b2a8c496-58f6-486d-faae-c752bbb4430b",
        "colab": {
          "base_uri": "https://localhost:8080/",
          "height": 88
        }
      },
      "source": [
        "# clean document\n",
        "tokens = clean_doc(doc)\n",
        "print(tokens[:200])\n",
        "print('Total Tokens: %d' % len(tokens))\n",
        "print('Unique Tokens: %d' % len(set(tokens)))"
      ],
      "execution_count": 6,
      "outputs": [
        {
          "output_type": "stream",
          "text": [
            "['berliner', 'vorlesungsverzeichnis', 'wissenschaftsgeschichte', 'wintersemester', 'wwwwissensgeschichteberlinde', 'liebe', 'studierende', 'die', 'vorliegende', 'zusammenstellung', 'der', 'aktuellen', 'lehrveranstaltungen', 'zur', 'wissenschaftsgeschichte', 'richtet', 'sich', 'an', 'studierende', 'und', 'weitere', 'interessierte', 'sie', 'das', 'lehrangebot', 'der', 'drei', 'berliner', 'zusammen', 'und', 'zeigt', 'damit', 'die', 'reichhaltigkeit', 'und', 'der', 'wissenschaftshistorischen', 'themen', 'in', 'berlin', 'die', 'freie', 'die', 'und', 'die', 'technische', 'haben', 'im', 'juli', 'mit', 'der', 'maxplanckgesellschaft', 'vereinbart', 'das', 'zentrum', 'aufzubauen', 'das', 'vorliegende', 'kommentierte', 'vorlesungsverzeichnis', 'wissenschaftsgeschichte', 'diese', 'zusammenarbeit', 'der', 'drei', 'und', 'des', 'maxplanckinstituts', 'wissenschaftsgeschichte', 'in', 'diesem', 'feld', 'die', 'auswahl', 'der', 'lehrveranstaltungen', 'in', 'dieser', 'fassung', 'basiert', 'auf', 'den', 'online', 'vorlesungsverzeichnissen', 'von', 'fu', 'hu', 'und', 'tu', 'redaktionsschluss', 'september', 'wir', 'haben', 'versucht', 'alle', 'lehrveranstaltungen', 'aufzunehmen', 'die', 'einen', 'unmittelbaren', 'bezug', 'zur', 'geschichte', 'des', 'wissens', 'oder', 'der', 'wissenschaften', 'aufweisen', 'ebenso', 'aufgenommen', 'wurden', 'veranstaltungen', 'mit', 'relevanten', 'methodischen', 'angeboten', 'studierende', 'der', 'wissenschaftsgeschichte', 'aktuelle', 'entnehmen', 'sie', 'bitte', 'aus', 'den', 'online', 'verzeichnissen', 'der', 'jeweiligen', 'wo', 'auch', 'die', 'der', 'kurse', 'beschrieben', 'sind', 'das', 'verzeichnis', 'ist', 'gemeinsam', 'mit', 'dem', 'berlinkalender', 'wissenschaftsgeschichte', 'auch', 'online', 'und', 'wird', 'dort', 'ggf', 'aktualisiert', 'wwwwissensgeschichteberlinde', 'wir', 'allen', 'studierenden', 'und', 'lehrenden', 'ein', 'spannendes', 'und', 'ertragreiches', 'wintersemester', 'und', 'hoffen', 'dass', 'das', 'vorliegende', 'verzeichnis', 'bei', 'der', 'semesterplanung', 'hilfreich', 'ist', 'jeder', 'art', 'freuen', 'wir', 'uns', 'sehr', 'die', 'redaktion', 'dr', 'mathias', 'grote', 'institut', 'geschichtswissenschaften', 'hu', 'mathiasgrotehuberlinde', 'dr', 'bernadette', 'grubner', 'institut', 'deutsche', 'und', 'philologie', 'fu', 'bernadettegrubnerfuberlinde', 'nina', 'ludwig']\n",
            "Total Tokens: 26916\n",
            "Unique Tokens: 6366\n"
          ],
          "name": "stdout"
        }
      ]
    },
    {
      "cell_type": "code",
      "metadata": {
        "id": "SrsIAx0oJfhf",
        "colab_type": "code",
        "outputId": "1e32f02d-6775-496e-99f4-a6935ca7a4a6",
        "colab": {
          "base_uri": "https://localhost:8080/",
          "height": 34
        }
      },
      "source": [
        "# organize into sequences of tokens\n",
        "length = 50 + 1\n",
        "sequences = list()\n",
        "for i in range(length, len(tokens)):\n",
        "    # select sequence of tokens\n",
        "    seq = tokens[i-length:i]\n",
        "    # convert into a line\n",
        "    line = ' '.join(seq)\n",
        "    # store\n",
        "    sequences.append(line)\n",
        "print('Total Sequences: %d' % len(sequences))"
      ],
      "execution_count": 7,
      "outputs": [
        {
          "output_type": "stream",
          "text": [
            "Total Sequences: 26865\n"
          ],
          "name": "stdout"
        }
      ]
    },
    {
      "cell_type": "code",
      "metadata": {
        "id": "1UnXe0huJfhh",
        "colab_type": "code",
        "colab": {}
      },
      "source": [
        "# save tokens to file, one dialog per line\n",
        "def save_doc(lines, filename):\n",
        "    data = '\\n'.join(lines)\n",
        "    file = open(filename, 'w')\n",
        "    file.write(data)\n",
        "    file.close()"
      ],
      "execution_count": 0,
      "outputs": []
    },
    {
      "cell_type": "code",
      "metadata": {
        "id": "4qBvxBVuJfhj",
        "colab_type": "code",
        "colab": {}
      },
      "source": [
        "# save sequences to file\n",
        "save_doc(sequences, sequenceFile)"
      ],
      "execution_count": 0,
      "outputs": []
    },
    {
      "cell_type": "code",
      "metadata": {
        "id": "LizteBg7Jfhl",
        "colab_type": "code",
        "colab": {}
      },
      "source": [
        "doc = load_doc(sequenceFile)\n",
        "lines = doc.split('\\n')"
      ],
      "execution_count": 0,
      "outputs": []
    },
    {
      "cell_type": "code",
      "metadata": {
        "id": "VlGfz-9YJfhn",
        "colab_type": "code",
        "colab": {}
      },
      "source": [
        "# integer encode sequences of words\n",
        "tokenizer = keras.preprocessing.text.Tokenizer(filters='\\n')\n",
        "tokenizer.fit_on_texts(lines)\n",
        "sequences = tokenizer.texts_to_sequences(lines)"
      ],
      "execution_count": 0,
      "outputs": []
    },
    {
      "cell_type": "code",
      "metadata": {
        "id": "bYT3xteDJfhs",
        "colab_type": "code",
        "colab": {}
      },
      "source": [
        "# vocabulary size\n",
        "vocab_size = len(tokenizer.word_index) + 1"
      ],
      "execution_count": 0,
      "outputs": []
    },
    {
      "cell_type": "code",
      "metadata": {
        "id": "VI_OPWBHJfhu",
        "colab_type": "code",
        "colab": {}
      },
      "source": [
        "# separate into input and output\n",
        "sequences = array(sequences)\n",
        "X, y = sequences[:,:-1], sequences[:,-1]\n",
        "y = keras.utils.to_categorical(y, num_classes=vocab_size)\n",
        "seq_length = X.shape[1]"
      ],
      "execution_count": 0,
      "outputs": []
    },
    {
      "cell_type": "code",
      "metadata": {
        "id": "bKZE6J5kJfhw",
        "colab_type": "code",
        "outputId": "e1ebdaec-cddd-4cc8-93bf-2b3a9c32352a",
        "colab": {
          "base_uri": "https://localhost:8080/",
          "height": 462
        }
      },
      "source": [
        "# define model\n",
        "model = keras.models.Sequential()\n",
        "model.add(keras.layers.Embedding(vocab_size, 50, input_length=seq_length))\n",
        "model.add(keras.layers.LSTM(100, return_sequences=True))\n",
        "model.add(keras.layers.LSTM(100))\n",
        "model.add(keras.layers.Dense(100, activation='relu'))\n",
        "model.add(keras.layers.Dense(vocab_size, activation='softmax'))\n",
        "print(model.summary())"
      ],
      "execution_count": 14,
      "outputs": [
        {
          "output_type": "stream",
          "text": [
            "WARNING:tensorflow:From /usr/local/lib/python3.6/dist-packages/keras/backend/tensorflow_backend.py:66: The name tf.get_default_graph is deprecated. Please use tf.compat.v1.get_default_graph instead.\n",
            "\n",
            "WARNING:tensorflow:From /usr/local/lib/python3.6/dist-packages/keras/backend/tensorflow_backend.py:541: The name tf.placeholder is deprecated. Please use tf.compat.v1.placeholder instead.\n",
            "\n",
            "WARNING:tensorflow:From /usr/local/lib/python3.6/dist-packages/keras/backend/tensorflow_backend.py:4432: The name tf.random_uniform is deprecated. Please use tf.random.uniform instead.\n",
            "\n",
            "Model: \"sequential_1\"\n",
            "_________________________________________________________________\n",
            "Layer (type)                 Output Shape              Param #   \n",
            "=================================================================\n",
            "embedding_1 (Embedding)      (None, 50, 50)            318350    \n",
            "_________________________________________________________________\n",
            "lstm_1 (LSTM)                (None, 50, 100)           60400     \n",
            "_________________________________________________________________\n",
            "lstm_2 (LSTM)                (None, 100)               80400     \n",
            "_________________________________________________________________\n",
            "dense_1 (Dense)              (None, 100)               10100     \n",
            "_________________________________________________________________\n",
            "dense_2 (Dense)              (None, 6367)              643067    \n",
            "=================================================================\n",
            "Total params: 1,112,317\n",
            "Trainable params: 1,112,317\n",
            "Non-trainable params: 0\n",
            "_________________________________________________________________\n",
            "None\n"
          ],
          "name": "stdout"
        }
      ]
    },
    {
      "cell_type": "code",
      "metadata": {
        "id": "D1iW6uDBJfhy",
        "colab_type": "code",
        "outputId": "62149d07-7a11-41a9-bea0-f8328ba1b027",
        "colab": {
          "base_uri": "https://localhost:8080/",
          "height": 1000
        }
      },
      "source": [
        "# compile model\n",
        "model.compile(loss='categorical_crossentropy', optimizer='adam', metrics=['accuracy'])"
      ],
      "execution_count": 16,
      "outputs": [
        {
          "output_type": "stream",
          "text": [
            "Epoch 1/5\n",
            "26865/26865 [==============================] - 39s 1ms/step - loss: 7.2535 - acc: 0.0398\n",
            "Epoch 2/5\n",
            "26865/26865 [==============================] - 37s 1ms/step - loss: 6.9731 - acc: 0.0410\n",
            "Epoch 3/5\n",
            "26865/26865 [==============================] - 37s 1ms/step - loss: 6.7391 - acc: 0.0449\n",
            "Epoch 4/5\n",
            "23296/26865 [=========================>....] - ETA: 5s - loss: 6.5733 - acc: 0.0524"
          ],
          "name": "stdout"
        },
        {
          "output_type": "stream",
          "text": [
            "ERROR:root:Internal Python error in the inspect module.\n",
            "Below is the traceback from this internal error.\n",
            "\n"
          ],
          "name": "stderr"
        },
        {
          "output_type": "stream",
          "text": [
            "Traceback (most recent call last):\n",
            "  File \"/usr/local/lib/python3.6/dist-packages/IPython/core/interactiveshell.py\", line 2882, in run_code\n",
            "    exec(code_obj, self.user_global_ns, self.user_ns)\n",
            "  File \"<ipython-input-16-97c08eb4ff88>\", line 3, in <module>\n",
            "    model.fit(X, y, batch_size=128, epochs=5)\n",
            "  File \"/usr/local/lib/python3.6/dist-packages/keras/engine/training.py\", line 1178, in fit\n",
            "    validation_freq=validation_freq)\n",
            "  File \"/usr/local/lib/python3.6/dist-packages/keras/engine/training_arrays.py\", line 204, in fit_loop\n",
            "    outs = fit_function(ins_batch)\n",
            "  File \"/usr/local/lib/python3.6/dist-packages/keras/backend/tensorflow_backend.py\", line 2979, in __call__\n",
            "    return self._call(inputs)\n",
            "  File \"/usr/local/lib/python3.6/dist-packages/keras/backend/tensorflow_backend.py\", line 2937, in _call\n",
            "    fetched = self._callable_fn(*array_vals)\n",
            "  File \"/usr/local/lib/python3.6/dist-packages/tensorflow_core/python/client/session.py\", line 1472, in __call__\n",
            "    run_metadata_ptr)\n",
            "KeyboardInterrupt\n",
            "\n",
            "During handling of the above exception, another exception occurred:\n",
            "\n",
            "Traceback (most recent call last):\n",
            "  File \"/usr/local/lib/python3.6/dist-packages/IPython/core/interactiveshell.py\", line 1823, in showtraceback\n",
            "    stb = value._render_traceback_()\n",
            "AttributeError: 'KeyboardInterrupt' object has no attribute '_render_traceback_'\n",
            "\n",
            "During handling of the above exception, another exception occurred:\n",
            "\n",
            "Traceback (most recent call last):\n",
            "  File \"/usr/local/lib/python3.6/dist-packages/IPython/core/ultratb.py\", line 1132, in get_records\n",
            "    return _fixed_getinnerframes(etb, number_of_lines_of_context, tb_offset)\n",
            "  File \"/usr/local/lib/python3.6/dist-packages/IPython/core/ultratb.py\", line 313, in wrapped\n",
            "    return f(*args, **kwargs)\n",
            "  File \"/usr/local/lib/python3.6/dist-packages/IPython/core/ultratb.py\", line 358, in _fixed_getinnerframes\n",
            "    records = fix_frame_records_filenames(inspect.getinnerframes(etb, context))\n",
            "  File \"/usr/lib/python3.6/inspect.py\", line 1490, in getinnerframes\n",
            "    frameinfo = (tb.tb_frame,) + getframeinfo(tb, context)\n",
            "  File \"/usr/lib/python3.6/inspect.py\", line 1448, in getframeinfo\n",
            "    filename = getsourcefile(frame) or getfile(frame)\n",
            "  File \"/usr/lib/python3.6/inspect.py\", line 696, in getsourcefile\n",
            "    if getattr(getmodule(object, filename), '__loader__', None) is not None:\n",
            "  File \"/usr/lib/python3.6/inspect.py\", line 733, in getmodule\n",
            "    if ismodule(module) and hasattr(module, '__file__'):\n",
            "  File \"/usr/local/lib/python3.6/dist-packages/tensorflow/__init__.py\", line 50, in __getattr__\n",
            "    module = self._load()\n",
            "  File \"/usr/local/lib/python3.6/dist-packages/tensorflow/__init__.py\", line 44, in _load\n",
            "    module = _importlib.import_module(self.__name__)\n",
            "  File \"/usr/lib/python3.6/importlib/__init__.py\", line 126, in import_module\n",
            "    return _bootstrap._gcd_import(name[level:], package, level)\n",
            "  File \"<frozen importlib._bootstrap>\", line 994, in _gcd_import\n",
            "  File \"<frozen importlib._bootstrap>\", line 971, in _find_and_load\n",
            "  File \"<frozen importlib._bootstrap>\", line 955, in _find_and_load_unlocked\n",
            "  File \"<frozen importlib._bootstrap>\", line 665, in _load_unlocked\n",
            "  File \"<frozen importlib._bootstrap_external>\", line 678, in exec_module\n",
            "  File \"<frozen importlib._bootstrap>\", line 219, in _call_with_frames_removed\n",
            "  File \"/usr/local/lib/python3.6/dist-packages/tensorflow_core/contrib/__init__.py\", line 90, in <module>\n",
            "    from tensorflow.contrib import tensor_forest\n",
            "  File \"/usr/local/lib/python3.6/dist-packages/tensorflow_core/contrib/tensor_forest/__init__.py\", line 21, in <module>\n",
            "    from tensorflow.contrib.tensor_forest.client import *\n",
            "  File \"/usr/local/lib/python3.6/dist-packages/tensorflow_core/contrib/tensor_forest/__init__.py\", line 21, in <module>\n",
            "    from tensorflow.contrib.tensor_forest.client import *\n",
            "  File \"/usr/local/lib/python3.6/dist-packages/tensorflow_core/contrib/tensor_forest/client/__init__.py\", line 22, in <module>\n",
            "    from tensorflow.contrib.tensor_forest.client import random_forest\n",
            "  File \"/usr/local/lib/python3.6/dist-packages/tensorflow_core/contrib/tensor_forest/client/random_forest.py\", line 27, in <module>\n",
            "    from tensorflow.contrib.tensor_forest.python import tensor_forest\n",
            "  File \"/usr/local/lib/python3.6/dist-packages/tensorflow_core/contrib/tensor_forest/python/__init__.py\", line 21, in <module>\n",
            "    from tensorflow.contrib.tensor_forest.python import tensor_forest\n",
            "  File \"/usr/local/lib/python3.6/dist-packages/tensorflow_core/contrib/tensor_forest/python/tensor_forest.py\", line 29, in <module>\n",
            "    from tensorflow.contrib.tensor_forest.python.ops import data_ops\n",
            "  File \"/usr/local/lib/python3.6/dist-packages/tensorflow_core/contrib/tensor_forest/python/ops/data_ops.py\", line 20, in <module>\n",
            "    from tensorflow.contrib.tensor_forest.python.ops import tensor_forest_ops\n",
            "  File \"/usr/local/lib/python3.6/dist-packages/tensorflow_core/contrib/tensor_forest/python/ops/tensor_forest_ops.py\", line 28, in <module>\n",
            "    resource_loader.get_path_to_datafile('_tensor_forest_ops.so'))\n",
            "  File \"/usr/local/lib/python3.6/dist-packages/tensorflow_core/contrib/util/loader.py\", line 56, in load_op_library\n",
            "    ret = load_library.load_op_library(path)\n",
            "  File \"/usr/local/lib/python3.6/dist-packages/tensorflow_core/python/framework/load_library.py\", line 61, in load_op_library\n",
            "    lib_handle = py_tf.TF_LoadLibrary(library_filename)\n",
            "KeyboardInterrupt\n"
          ],
          "name": "stdout"
        },
        {
          "output_type": "error",
          "ename": "KeyboardInterrupt",
          "evalue": "ignored",
          "traceback": [
            "\u001b[0;31m---------------------------------------------------------------------------\u001b[0m"
          ]
        }
      ]
    },
    {
      "cell_type": "code",
      "metadata": {
        "id": "N3ye96A-g1HW",
        "colab_type": "code",
        "colab": {
          "base_uri": "https://localhost:8080/",
          "height": 1000
        },
        "outputId": "6a97bc9d-2615-485b-a5df-f9f9f40b70cb"
      },
      "source": [
        "# fit model\n",
        "model.fit(X, y, batch_size=128, epochs=100)"
      ],
      "execution_count": 17,
      "outputs": [
        {
          "output_type": "stream",
          "text": [
            "Epoch 1/100\n",
            "26865/26865 [==============================] - 38s 1ms/step - loss: 6.4428 - acc: 0.0583\n",
            "Epoch 2/100\n",
            "26865/26865 [==============================] - 37s 1ms/step - loss: 6.2860 - acc: 0.0661\n",
            "Epoch 3/100\n",
            "26865/26865 [==============================] - 37s 1ms/step - loss: 6.1363 - acc: 0.0752\n",
            "Epoch 4/100\n",
            "26865/26865 [==============================] - 37s 1ms/step - loss: 5.9782 - acc: 0.0834\n",
            "Epoch 5/100\n",
            "26865/26865 [==============================] - 38s 1ms/step - loss: 5.8297 - acc: 0.0896\n",
            "Epoch 6/100\n",
            "26865/26865 [==============================] - 38s 1ms/step - loss: 5.6977 - acc: 0.0948\n",
            "Epoch 7/100\n",
            "26865/26865 [==============================] - 39s 1ms/step - loss: 5.5700 - acc: 0.0983\n",
            "Epoch 8/100\n",
            "26865/26865 [==============================] - 40s 1ms/step - loss: 5.4523 - acc: 0.1028\n",
            "Epoch 9/100\n",
            "26865/26865 [==============================] - 39s 1ms/step - loss: 5.3343 - acc: 0.1083\n",
            "Epoch 10/100\n",
            "26865/26865 [==============================] - 39s 1ms/step - loss: 5.2362 - acc: 0.1132\n",
            "Epoch 11/100\n",
            "26865/26865 [==============================] - 39s 1ms/step - loss: 5.1271 - acc: 0.1186\n",
            "Epoch 12/100\n",
            "26865/26865 [==============================] - 39s 1ms/step - loss: 5.0193 - acc: 0.1237\n",
            "Epoch 13/100\n",
            "26865/26865 [==============================] - 39s 1ms/step - loss: 4.9095 - acc: 0.1279\n",
            "Epoch 14/100\n",
            "26865/26865 [==============================] - 38s 1ms/step - loss: 4.8061 - acc: 0.1331\n",
            "Epoch 15/100\n",
            "26865/26865 [==============================] - 38s 1ms/step - loss: 4.7096 - acc: 0.1392\n",
            "Epoch 16/100\n",
            "26865/26865 [==============================] - 40s 1ms/step - loss: 4.6162 - acc: 0.1478\n",
            "Epoch 17/100\n",
            "26865/26865 [==============================] - 39s 1ms/step - loss: 4.5228 - acc: 0.1508\n",
            "Epoch 18/100\n",
            "26865/26865 [==============================] - 38s 1ms/step - loss: 4.4390 - acc: 0.1567\n",
            "Epoch 19/100\n",
            "26865/26865 [==============================] - 38s 1ms/step - loss: 4.3389 - acc: 0.1657\n",
            "Epoch 20/100\n",
            "26865/26865 [==============================] - 38s 1ms/step - loss: 4.2559 - acc: 0.1726\n",
            "Epoch 21/100\n",
            "26865/26865 [==============================] - 38s 1ms/step - loss: 4.1704 - acc: 0.1806\n",
            "Epoch 22/100\n",
            "26865/26865 [==============================] - 38s 1ms/step - loss: 4.0784 - acc: 0.1906\n",
            "Epoch 23/100\n",
            "26865/26865 [==============================] - 38s 1ms/step - loss: 3.9933 - acc: 0.1972\n",
            "Epoch 24/100\n",
            "26865/26865 [==============================] - 40s 1ms/step - loss: 3.9160 - acc: 0.2051\n",
            "Epoch 25/100\n",
            "26865/26865 [==============================] - 39s 1ms/step - loss: 3.8257 - acc: 0.2160\n",
            "Epoch 26/100\n",
            "26865/26865 [==============================] - 38s 1ms/step - loss: 3.7412 - acc: 0.2250\n",
            "Epoch 27/100\n",
            "26865/26865 [==============================] - 38s 1ms/step - loss: 3.6695 - acc: 0.2324\n",
            "Epoch 28/100\n",
            "26865/26865 [==============================] - 38s 1ms/step - loss: 3.5841 - acc: 0.2446\n",
            "Epoch 29/100\n",
            "26865/26865 [==============================] - 38s 1ms/step - loss: 3.5000 - acc: 0.2566\n",
            "Epoch 30/100\n",
            "26865/26865 [==============================] - 38s 1ms/step - loss: 3.4370 - acc: 0.2637\n",
            "Epoch 31/100\n",
            "26865/26865 [==============================] - 38s 1ms/step - loss: 3.3603 - acc: 0.2750\n",
            "Epoch 32/100\n",
            "26865/26865 [==============================] - 40s 1ms/step - loss: 3.2825 - acc: 0.2854\n",
            "Epoch 33/100\n",
            "26865/26865 [==============================] - 39s 1ms/step - loss: 3.2005 - acc: 0.2993\n",
            "Epoch 34/100\n",
            "26865/26865 [==============================] - 38s 1ms/step - loss: 3.1201 - acc: 0.3129\n",
            "Epoch 35/100\n",
            "26865/26865 [==============================] - 38s 1ms/step - loss: 3.0521 - acc: 0.3248\n",
            "Epoch 36/100\n",
            "26865/26865 [==============================] - 39s 1ms/step - loss: 2.9771 - acc: 0.3365\n",
            "Epoch 37/100\n",
            "26865/26865 [==============================] - 39s 1ms/step - loss: 2.9208 - acc: 0.3455\n",
            "Epoch 38/100\n",
            "26865/26865 [==============================] - 38s 1ms/step - loss: 2.8430 - acc: 0.3624\n",
            "Epoch 39/100\n",
            "26865/26865 [==============================] - 38s 1ms/step - loss: 2.7840 - acc: 0.3713\n",
            "Epoch 40/100\n",
            "26865/26865 [==============================] - 40s 1ms/step - loss: 2.7052 - acc: 0.3886\n",
            "Epoch 41/100\n",
            "26865/26865 [==============================] - 38s 1ms/step - loss: 2.6427 - acc: 0.4012\n",
            "Epoch 42/100\n",
            "26865/26865 [==============================] - 38s 1ms/step - loss: 2.5761 - acc: 0.4142\n",
            "Epoch 43/100\n",
            "26865/26865 [==============================] - 38s 1ms/step - loss: 2.5165 - acc: 0.4264\n",
            "Epoch 44/100\n",
            "26865/26865 [==============================] - 38s 1ms/step - loss: 2.4641 - acc: 0.4342\n",
            "Epoch 45/100\n",
            "26865/26865 [==============================] - 38s 1ms/step - loss: 2.3922 - acc: 0.4497\n",
            "Epoch 46/100\n",
            "26865/26865 [==============================] - 38s 1ms/step - loss: 2.3248 - acc: 0.4621\n",
            "Epoch 47/100\n",
            "26865/26865 [==============================] - 38s 1ms/step - loss: 2.2620 - acc: 0.4749\n",
            "Epoch 48/100\n",
            "26865/26865 [==============================] - 40s 1ms/step - loss: 2.2022 - acc: 0.4880\n",
            "Epoch 49/100\n",
            "26865/26865 [==============================] - 38s 1ms/step - loss: 2.1479 - acc: 0.4996\n",
            "Epoch 50/100\n",
            "26865/26865 [==============================] - 38s 1ms/step - loss: 2.0885 - acc: 0.5085\n",
            "Epoch 51/100\n",
            "26865/26865 [==============================] - 38s 1ms/step - loss: 2.0215 - acc: 0.5241\n",
            "Epoch 52/100\n",
            "26865/26865 [==============================] - 38s 1ms/step - loss: 1.9719 - acc: 0.5327\n",
            "Epoch 53/100\n",
            "26865/26865 [==============================] - 38s 1ms/step - loss: 1.9194 - acc: 0.5462\n",
            "Epoch 54/100\n",
            "26865/26865 [==============================] - 38s 1ms/step - loss: 1.9185 - acc: 0.5463\n",
            "Epoch 55/100\n",
            "26865/26865 [==============================] - 38s 1ms/step - loss: 1.8335 - acc: 0.5655\n",
            "Epoch 56/100\n",
            "26865/26865 [==============================] - 41s 2ms/step - loss: 1.7624 - acc: 0.5833\n",
            "Epoch 57/100\n",
            "26865/26865 [==============================] - 38s 1ms/step - loss: 1.7168 - acc: 0.5899\n",
            "Epoch 58/100\n",
            "26865/26865 [==============================] - 39s 1ms/step - loss: 1.6646 - acc: 0.6029\n",
            "Epoch 59/100\n",
            "26865/26865 [==============================] - 38s 1ms/step - loss: 1.6234 - acc: 0.6097\n",
            "Epoch 60/100\n",
            "26865/26865 [==============================] - 38s 1ms/step - loss: 1.5823 - acc: 0.6220\n",
            "Epoch 61/100\n",
            "26865/26865 [==============================] - 38s 1ms/step - loss: 1.5485 - acc: 0.6296\n",
            "Epoch 62/100\n",
            "26865/26865 [==============================] - 38s 1ms/step - loss: 1.5077 - acc: 0.6386\n",
            "Epoch 63/100\n",
            "26865/26865 [==============================] - 38s 1ms/step - loss: 1.4700 - acc: 0.6441\n",
            "Epoch 64/100\n",
            "26865/26865 [==============================] - 40s 1ms/step - loss: 1.4332 - acc: 0.6554\n",
            "Epoch 65/100\n",
            "26865/26865 [==============================] - 38s 1ms/step - loss: 1.3835 - acc: 0.6626\n",
            "Epoch 66/100\n",
            "26865/26865 [==============================] - 39s 1ms/step - loss: 1.3538 - acc: 0.6695\n",
            "Epoch 67/100\n",
            "26865/26865 [==============================] - 38s 1ms/step - loss: 1.3344 - acc: 0.6731\n",
            "Epoch 68/100\n",
            "26865/26865 [==============================] - 38s 1ms/step - loss: 1.2782 - acc: 0.6878\n",
            "Epoch 69/100\n",
            "26865/26865 [==============================] - 38s 1ms/step - loss: 1.2492 - acc: 0.6987\n",
            "Epoch 70/100\n",
            "26865/26865 [==============================] - 38s 1ms/step - loss: 1.2197 - acc: 0.7019\n",
            "Epoch 71/100\n",
            "26865/26865 [==============================] - 38s 1ms/step - loss: 1.1869 - acc: 0.7101\n",
            "Epoch 72/100\n",
            "26865/26865 [==============================] - 40s 1ms/step - loss: 1.1558 - acc: 0.7177\n",
            "Epoch 73/100\n",
            "26865/26865 [==============================] - 39s 1ms/step - loss: 1.1497 - acc: 0.7184\n",
            "Epoch 74/100\n",
            "26865/26865 [==============================] - 38s 1ms/step - loss: 1.1225 - acc: 0.7243\n",
            "Epoch 75/100\n",
            "26865/26865 [==============================] - 38s 1ms/step - loss: 1.0907 - acc: 0.7307\n",
            "Epoch 76/100\n",
            "26865/26865 [==============================] - 38s 1ms/step - loss: 1.0382 - acc: 0.7482\n",
            "Epoch 77/100\n",
            "26865/26865 [==============================] - 38s 1ms/step - loss: 1.0271 - acc: 0.7472\n",
            "Epoch 78/100\n",
            "26865/26865 [==============================] - 38s 1ms/step - loss: 0.9849 - acc: 0.7586\n",
            "Epoch 79/100\n",
            "26865/26865 [==============================] - 38s 1ms/step - loss: 0.9614 - acc: 0.7655\n",
            "Epoch 80/100\n",
            "26865/26865 [==============================] - 39s 1ms/step - loss: 0.9419 - acc: 0.7696\n",
            "Epoch 81/100\n",
            "26865/26865 [==============================] - 40s 1ms/step - loss: 0.9184 - acc: 0.7767\n",
            "Epoch 82/100\n",
            "26865/26865 [==============================] - 38s 1ms/step - loss: 0.8899 - acc: 0.7815\n",
            "Epoch 83/100\n",
            "26865/26865 [==============================] - 38s 1ms/step - loss: 0.8671 - acc: 0.7872\n",
            "Epoch 84/100\n",
            "26865/26865 [==============================] - 39s 1ms/step - loss: 0.8745 - acc: 0.7867\n",
            "Epoch 85/100\n",
            "26865/26865 [==============================] - 38s 1ms/step - loss: 0.8512 - acc: 0.7878\n",
            "Epoch 86/100\n",
            "26865/26865 [==============================] - 38s 1ms/step - loss: 0.8949 - acc: 0.7763\n",
            "Epoch 87/100\n",
            "26865/26865 [==============================] - 38s 1ms/step - loss: 0.8526 - acc: 0.7885\n",
            "Epoch 88/100\n",
            "26865/26865 [==============================] - 39s 1ms/step - loss: 0.7740 - acc: 0.8083\n",
            "Epoch 89/100\n",
            "26865/26865 [==============================] - 40s 1ms/step - loss: 0.7339 - acc: 0.8238\n",
            "Epoch 90/100\n",
            "26865/26865 [==============================] - 38s 1ms/step - loss: 0.7286 - acc: 0.8222\n",
            "Epoch 91/100\n",
            "26865/26865 [==============================] - 38s 1ms/step - loss: 0.7048 - acc: 0.8287\n",
            "Epoch 92/100\n",
            "26865/26865 [==============================] - 38s 1ms/step - loss: 0.6765 - acc: 0.8377\n",
            "Epoch 93/100\n",
            "26865/26865 [==============================] - 38s 1ms/step - loss: 0.6632 - acc: 0.8392\n",
            "Epoch 94/100\n",
            "26865/26865 [==============================] - 38s 1ms/step - loss: 0.6659 - acc: 0.8374\n",
            "Epoch 95/100\n",
            "26865/26865 [==============================] - 38s 1ms/step - loss: 0.6689 - acc: 0.8334\n",
            "Epoch 96/100\n",
            "26865/26865 [==============================] - 39s 1ms/step - loss: 0.6494 - acc: 0.8425\n",
            "Epoch 97/100\n",
            "26865/26865 [==============================] - 40s 1ms/step - loss: 0.6289 - acc: 0.8469\n",
            "Epoch 98/100\n",
            "26865/26865 [==============================] - 39s 1ms/step - loss: 0.6485 - acc: 0.8392\n",
            "Epoch 99/100\n",
            "26865/26865 [==============================] - 38s 1ms/step - loss: 0.5952 - acc: 0.8553\n",
            "Epoch 100/100\n",
            "26865/26865 [==============================] - 38s 1ms/step - loss: 0.5711 - acc: 0.8616\n"
          ],
          "name": "stdout"
        },
        {
          "output_type": "execute_result",
          "data": {
            "text/plain": [
              "<keras.callbacks.History at 0x7fe517aab518>"
            ]
          },
          "metadata": {
            "tags": []
          },
          "execution_count": 17
        }
      ]
    },
    {
      "cell_type": "code",
      "metadata": {
        "id": "dh3o4mMsJfh0",
        "colab_type": "code",
        "colab": {}
      },
      "source": [
        "# save the model to file\n",
        "model.save('model.h5')\n",
        "# save the tokenizer\n",
        "dump(tokenizer, open('tokenizer.pkl', 'wb'))"
      ],
      "execution_count": 0,
      "outputs": []
    },
    {
      "cell_type": "code",
      "metadata": {
        "id": "1DE1XH4xJfh1",
        "colab_type": "code",
        "colab": {}
      },
      "source": [
        ""
      ],
      "execution_count": 0,
      "outputs": []
    }
  ]
}